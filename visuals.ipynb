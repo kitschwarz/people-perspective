{
 "cells": [
  {
   "cell_type": "markdown",
   "metadata": {},
   "source": [
    "\n",
    "\n",
    "# <span style=\"color:salmon\">**Progress in Nepal: A Visualization Notebook from the**</span> <span style=\"color:red\">**People's** </span><span style=\"color:salmon\">**Perspective**</span> <img src=\"http://icons.iconarchive.com/icons/icons-land/vista-flags/256/Nepal-Flag-1-icon.png\" width=\"50\" height=\"50\" />\n"
   ]
  },
  {
   "cell_type": "markdown",
   "metadata": {},
   "source": [
    "#### Note: maps display better on a wide screen :)"
   ]
  },
  {
   "cell_type": "code",
   "execution_count": 8,
   "metadata": {},
   "outputs": [
    {
     "name": "stdout",
     "output_type": "stream",
     "text": [
      "Collecting geopandas\n",
      "  Using cached https://files.pythonhosted.org/packages/21/80/da2a33c9201cd4ce693f4aa6189efc9ef1a48bec1c3b02c3ce9908b07fec/geopandas-0.5.1-py2.py3-none-any.whl\n",
      "Collecting pyproj (from geopandas)\n",
      "  Downloading https://files.pythonhosted.org/packages/49/94/06c20b7f65a0efc31da7c734ea4c9385a3b26e5aec619a5b83383dffed93/pyproj-2.3.0.tar.gz (415kB)\n",
      "  Installing build dependencies: started\n",
      "  Installing build dependencies: finished with status 'done'\n",
      "  Getting requirements to build wheel: started\n",
      "  Getting requirements to build wheel: finished with status 'error'\n"
     ]
    },
    {
     "name": "stderr",
     "output_type": "stream",
     "text": [
      "  ERROR: Command errored out with exit status 1:\n",
      "   command: 'c:\\python37\\python.exe' 'c:\\python37\\lib\\site-packages\\pip\\_vendor\\pep517\\_in_process.py' get_requires_for_build_wheel 'C:\\Users\\kitsc\\AppData\\Local\\Temp\\tmpxh1gt1qt'\n",
      "       cwd: C:\\Users\\kitsc\\AppData\\Local\\Temp\\pip-install-07ce0k87\\pyproj\n",
      "  Complete output (1 lines):\n",
      "  Proj executable not found. Please set PROJ_DIR variable.\n",
      "  ----------------------------------------\n",
      "ERROR: Command errored out with exit status 1: 'c:\\python37\\python.exe' 'c:\\python37\\lib\\site-packages\\pip\\_vendor\\pep517\\_in_process.py' get_requires_for_build_wheel 'C:\\Users\\kitsc\\AppData\\Local\\Temp\\tmpxh1gt1qt' Check the logs for full command output.\n"
     ]
    }
   ],
   "source": [
    "! pip install geopandas"
   ]
  },
  {
   "cell_type": "code",
   "execution_count": 1,
   "metadata": {},
   "outputs": [
    {
     "name": "stdout",
     "output_type": "stream",
     "text": [
      "Collecting geopandas\n",
      "  Downloading https://files.pythonhosted.org/packages/21/80/da2a33c9201cd4ce693f4aa6189efc9ef1a48bec1c3b02c3ce9908b07fec/geopandas-0.5.1-py2.py3-none-any.whl (893kB)\n",
      "Collecting shapely (from geopandas)\n",
      "  Downloading https://files.pythonhosted.org/packages/a2/fb/7a7af9ef7a35d16fa23b127abee272cfc483ca89029b73e92e93cdf36e6b/Shapely-1.6.4.post2.tar.gz (225kB)\n"
     ]
    },
    {
     "name": "stderr",
     "output_type": "stream",
     "text": [
      "    ERROR: Command errored out with exit status 1:\n",
      "     command: 'c:\\python37\\python.exe' -c 'import sys, setuptools, tokenize; sys.argv[0] = '\"'\"'C:\\\\Users\\\\kitsc\\\\AppData\\\\Local\\\\Temp\\\\pip-install-14zvt5p0\\\\shapely\\\\setup.py'\"'\"'; __file__='\"'\"'C:\\\\Users\\\\kitsc\\\\AppData\\\\Local\\\\Temp\\\\pip-install-14zvt5p0\\\\shapely\\\\setup.py'\"'\"';f=getattr(tokenize, '\"'\"'open'\"'\"', open)(__file__);code=f.read().replace('\"'\"'\\r\\n'\"'\"', '\"'\"'\\n'\"'\"');f.close();exec(compile(code, __file__, '\"'\"'exec'\"'\"'))' egg_info --egg-base pip-egg-info\n",
      "         cwd: C:\\Users\\kitsc\\AppData\\Local\\Temp\\pip-install-14zvt5p0\\shapely\\\n",
      "    Complete output (9 lines):\n",
      "    Traceback (most recent call last):\n",
      "      File \"<string>\", line 1, in <module>\n",
      "      File \"C:\\Users\\kitsc\\AppData\\Local\\Temp\\pip-install-14zvt5p0\\shapely\\setup.py\", line 80, in <module>\n",
      "        from shapely._buildcfg import geos_version_string, geos_version, \\\n",
      "      File \"C:\\Users\\kitsc\\AppData\\Local\\Temp\\pip-install-14zvt5p0\\shapely\\shapely\\_buildcfg.py\", line 200, in <module>\n",
      "        lgeos = CDLL(\"geos_c.dll\")\n",
      "      File \"c:\\python37\\lib\\ctypes\\__init__.py\", line 356, in __init__\n",
      "        self._handle = _dlopen(self._name, mode)\n",
      "    OSError: [WinError 126] The specified module could not be found\n",
      "    ----------------------------------------\n",
      "ERROR: Command errored out with exit status 1: python setup.py egg_info Check the logs for full command output.\n"
     ]
    },
    {
     "ename": "ModuleNotFoundError",
     "evalue": "No module named 'geopandas'",
     "output_type": "error",
     "traceback": [
      "\u001b[1;31m---------------------------------------------------------------------------\u001b[0m",
      "\u001b[1;31mModuleNotFoundError\u001b[0m                       Traceback (most recent call last)",
      "\u001b[1;32m<ipython-input-1-60bdef7aff0b>\u001b[0m in \u001b[0;36m<module>\u001b[1;34m\u001b[0m\n\u001b[0;32m      8\u001b[0m \u001b[1;32mimport\u001b[0m \u001b[0mos\u001b[0m\u001b[1;33m\u001b[0m\u001b[1;33m\u001b[0m\u001b[0m\n\u001b[0;32m      9\u001b[0m \u001b[1;32mimport\u001b[0m \u001b[0mnumpy\u001b[0m \u001b[1;32mas\u001b[0m \u001b[0mnp\u001b[0m\u001b[1;33m\u001b[0m\u001b[1;33m\u001b[0m\u001b[0m\n\u001b[1;32m---> 10\u001b[1;33m \u001b[1;32mimport\u001b[0m \u001b[0mgeopandas\u001b[0m \u001b[1;32mas\u001b[0m \u001b[0mgpd\u001b[0m\u001b[1;33m\u001b[0m\u001b[1;33m\u001b[0m\u001b[0m\n\u001b[0m\u001b[0;32m     11\u001b[0m \u001b[1;32mimport\u001b[0m \u001b[0mfolium\u001b[0m\u001b[1;33m\u001b[0m\u001b[1;33m\u001b[0m\u001b[0m\n\u001b[0;32m     12\u001b[0m \u001b[1;32mimport\u001b[0m \u001b[0mjson\u001b[0m\u001b[1;33m\u001b[0m\u001b[1;33m\u001b[0m\u001b[0m\n",
      "\u001b[1;31mModuleNotFoundError\u001b[0m: No module named 'geopandas'"
     ]
    }
   ],
   "source": [
    "# setting up environment\n",
    "\n",
    "import pandas as pd\n",
    "import matplotlib.pyplot as plt\n",
    "import seaborn as sns\n",
    "import os\n",
    "import numpy as np\n",
    "import geopandas as gpd\n",
    "import folium\n",
    "import json\n",
    "from folium.plugins import MarkerCluster\n",
    "from folium import IFrame\n",
    "sns.set()"
   ]
  },
  {
   "cell_type": "code",
   "execution_count": 4,
   "metadata": {},
   "outputs": [
    {
     "ename": "FileNotFoundError",
     "evalue": "[Errno 2] File b'/home/jupyter/final_project/world_bank/mortality.csv' does not exist: b'/home/jupyter/final_project/world_bank/mortality.csv'",
     "output_type": "error",
     "traceback": [
      "\u001b[1;31m---------------------------------------------------------------------------\u001b[0m",
      "\u001b[1;31mFileNotFoundError\u001b[0m                         Traceback (most recent call last)",
      "\u001b[1;32m<ipython-input-4-16f331d610bc>\u001b[0m in \u001b[0;36m<module>\u001b[1;34m\u001b[0m\n\u001b[0;32m      9\u001b[0m         ['Country Name']).T.drop(['Country Code', 'Indicator Name', 'Indicator Code'])\n\u001b[0;32m     10\u001b[0m \u001b[1;33m\u001b[0m\u001b[0m\n\u001b[1;32m---> 11\u001b[1;33m \u001b[0mmortality\u001b[0m \u001b[1;33m=\u001b[0m \u001b[0mget_data\u001b[0m\u001b[1;33m(\u001b[0m\u001b[1;34m'mortality'\u001b[0m\u001b[1;33m)\u001b[0m\u001b[1;33m\u001b[0m\u001b[1;33m\u001b[0m\u001b[0m\n\u001b[0m\u001b[0;32m     12\u001b[0m \u001b[0mcontraception\u001b[0m \u001b[1;33m=\u001b[0m \u001b[0mget_data\u001b[0m\u001b[1;33m(\u001b[0m\u001b[1;34m'contraception'\u001b[0m\u001b[1;33m)\u001b[0m\u001b[1;33m\u001b[0m\u001b[1;33m\u001b[0m\u001b[0m\n\u001b[0;32m     13\u001b[0m \u001b[0menrollment\u001b[0m \u001b[1;33m=\u001b[0m \u001b[0mget_data\u001b[0m\u001b[1;33m(\u001b[0m\u001b[1;34m'enrollment'\u001b[0m\u001b[1;33m)\u001b[0m\u001b[1;33m\u001b[0m\u001b[1;33m\u001b[0m\u001b[0m\n",
      "\u001b[1;32m<ipython-input-4-16f331d610bc>\u001b[0m in \u001b[0;36mget_data\u001b[1;34m(name)\u001b[0m\n\u001b[0;32m      5\u001b[0m \u001b[1;33m\u001b[0m\u001b[0m\n\u001b[0;32m      6\u001b[0m \u001b[1;32mdef\u001b[0m \u001b[0mget_data\u001b[0m\u001b[1;33m(\u001b[0m\u001b[0mname\u001b[0m\u001b[1;33m)\u001b[0m\u001b[1;33m:\u001b[0m\u001b[1;33m\u001b[0m\u001b[1;33m\u001b[0m\u001b[0m\n\u001b[1;32m----> 7\u001b[1;33m     \u001b[0mdata\u001b[0m \u001b[1;33m=\u001b[0m \u001b[0mpd\u001b[0m\u001b[1;33m.\u001b[0m\u001b[0mread_csv\u001b[0m\u001b[1;33m(\u001b[0m\u001b[0mlocation\u001b[0m \u001b[1;33m+\u001b[0m \u001b[1;34mf\"world_bank/{name}.csv\"\u001b[0m\u001b[1;33m)\u001b[0m\u001b[1;33m\u001b[0m\u001b[1;33m\u001b[0m\u001b[0m\n\u001b[0m\u001b[0;32m      8\u001b[0m     return data.loc[data['Country Name'].isin(countries)].set_index(\n\u001b[0;32m      9\u001b[0m         ['Country Name']).T.drop(['Country Code', 'Indicator Name', 'Indicator Code'])\n",
      "\u001b[1;32mc:\\python37\\lib\\site-packages\\pandas\\io\\parsers.py\u001b[0m in \u001b[0;36mparser_f\u001b[1;34m(filepath_or_buffer, sep, delimiter, header, names, index_col, usecols, squeeze, prefix, mangle_dupe_cols, dtype, engine, converters, true_values, false_values, skipinitialspace, skiprows, skipfooter, nrows, na_values, keep_default_na, na_filter, verbose, skip_blank_lines, parse_dates, infer_datetime_format, keep_date_col, date_parser, dayfirst, iterator, chunksize, compression, thousands, decimal, lineterminator, quotechar, quoting, doublequote, escapechar, comment, encoding, dialect, tupleize_cols, error_bad_lines, warn_bad_lines, delim_whitespace, low_memory, memory_map, float_precision)\u001b[0m\n\u001b[0;32m    700\u001b[0m                     skip_blank_lines=skip_blank_lines)\n\u001b[0;32m    701\u001b[0m \u001b[1;33m\u001b[0m\u001b[0m\n\u001b[1;32m--> 702\u001b[1;33m         \u001b[1;32mreturn\u001b[0m \u001b[0m_read\u001b[0m\u001b[1;33m(\u001b[0m\u001b[0mfilepath_or_buffer\u001b[0m\u001b[1;33m,\u001b[0m \u001b[0mkwds\u001b[0m\u001b[1;33m)\u001b[0m\u001b[1;33m\u001b[0m\u001b[1;33m\u001b[0m\u001b[0m\n\u001b[0m\u001b[0;32m    703\u001b[0m \u001b[1;33m\u001b[0m\u001b[0m\n\u001b[0;32m    704\u001b[0m     \u001b[0mparser_f\u001b[0m\u001b[1;33m.\u001b[0m\u001b[0m__name__\u001b[0m \u001b[1;33m=\u001b[0m \u001b[0mname\u001b[0m\u001b[1;33m\u001b[0m\u001b[1;33m\u001b[0m\u001b[0m\n",
      "\u001b[1;32mc:\\python37\\lib\\site-packages\\pandas\\io\\parsers.py\u001b[0m in \u001b[0;36m_read\u001b[1;34m(filepath_or_buffer, kwds)\u001b[0m\n\u001b[0;32m    427\u001b[0m \u001b[1;33m\u001b[0m\u001b[0m\n\u001b[0;32m    428\u001b[0m     \u001b[1;31m# Create the parser.\u001b[0m\u001b[1;33m\u001b[0m\u001b[1;33m\u001b[0m\u001b[1;33m\u001b[0m\u001b[0m\n\u001b[1;32m--> 429\u001b[1;33m     \u001b[0mparser\u001b[0m \u001b[1;33m=\u001b[0m \u001b[0mTextFileReader\u001b[0m\u001b[1;33m(\u001b[0m\u001b[0mfilepath_or_buffer\u001b[0m\u001b[1;33m,\u001b[0m \u001b[1;33m**\u001b[0m\u001b[0mkwds\u001b[0m\u001b[1;33m)\u001b[0m\u001b[1;33m\u001b[0m\u001b[1;33m\u001b[0m\u001b[0m\n\u001b[0m\u001b[0;32m    430\u001b[0m \u001b[1;33m\u001b[0m\u001b[0m\n\u001b[0;32m    431\u001b[0m     \u001b[1;32mif\u001b[0m \u001b[0mchunksize\u001b[0m \u001b[1;32mor\u001b[0m \u001b[0miterator\u001b[0m\u001b[1;33m:\u001b[0m\u001b[1;33m\u001b[0m\u001b[1;33m\u001b[0m\u001b[0m\n",
      "\u001b[1;32mc:\\python37\\lib\\site-packages\\pandas\\io\\parsers.py\u001b[0m in \u001b[0;36m__init__\u001b[1;34m(self, f, engine, **kwds)\u001b[0m\n\u001b[0;32m    893\u001b[0m             \u001b[0mself\u001b[0m\u001b[1;33m.\u001b[0m\u001b[0moptions\u001b[0m\u001b[1;33m[\u001b[0m\u001b[1;34m'has_index_names'\u001b[0m\u001b[1;33m]\u001b[0m \u001b[1;33m=\u001b[0m \u001b[0mkwds\u001b[0m\u001b[1;33m[\u001b[0m\u001b[1;34m'has_index_names'\u001b[0m\u001b[1;33m]\u001b[0m\u001b[1;33m\u001b[0m\u001b[1;33m\u001b[0m\u001b[0m\n\u001b[0;32m    894\u001b[0m \u001b[1;33m\u001b[0m\u001b[0m\n\u001b[1;32m--> 895\u001b[1;33m         \u001b[0mself\u001b[0m\u001b[1;33m.\u001b[0m\u001b[0m_make_engine\u001b[0m\u001b[1;33m(\u001b[0m\u001b[0mself\u001b[0m\u001b[1;33m.\u001b[0m\u001b[0mengine\u001b[0m\u001b[1;33m)\u001b[0m\u001b[1;33m\u001b[0m\u001b[1;33m\u001b[0m\u001b[0m\n\u001b[0m\u001b[0;32m    896\u001b[0m \u001b[1;33m\u001b[0m\u001b[0m\n\u001b[0;32m    897\u001b[0m     \u001b[1;32mdef\u001b[0m \u001b[0mclose\u001b[0m\u001b[1;33m(\u001b[0m\u001b[0mself\u001b[0m\u001b[1;33m)\u001b[0m\u001b[1;33m:\u001b[0m\u001b[1;33m\u001b[0m\u001b[1;33m\u001b[0m\u001b[0m\n",
      "\u001b[1;32mc:\\python37\\lib\\site-packages\\pandas\\io\\parsers.py\u001b[0m in \u001b[0;36m_make_engine\u001b[1;34m(self, engine)\u001b[0m\n\u001b[0;32m   1120\u001b[0m     \u001b[1;32mdef\u001b[0m \u001b[0m_make_engine\u001b[0m\u001b[1;33m(\u001b[0m\u001b[0mself\u001b[0m\u001b[1;33m,\u001b[0m \u001b[0mengine\u001b[0m\u001b[1;33m=\u001b[0m\u001b[1;34m'c'\u001b[0m\u001b[1;33m)\u001b[0m\u001b[1;33m:\u001b[0m\u001b[1;33m\u001b[0m\u001b[1;33m\u001b[0m\u001b[0m\n\u001b[0;32m   1121\u001b[0m         \u001b[1;32mif\u001b[0m \u001b[0mengine\u001b[0m \u001b[1;33m==\u001b[0m \u001b[1;34m'c'\u001b[0m\u001b[1;33m:\u001b[0m\u001b[1;33m\u001b[0m\u001b[1;33m\u001b[0m\u001b[0m\n\u001b[1;32m-> 1122\u001b[1;33m             \u001b[0mself\u001b[0m\u001b[1;33m.\u001b[0m\u001b[0m_engine\u001b[0m \u001b[1;33m=\u001b[0m \u001b[0mCParserWrapper\u001b[0m\u001b[1;33m(\u001b[0m\u001b[0mself\u001b[0m\u001b[1;33m.\u001b[0m\u001b[0mf\u001b[0m\u001b[1;33m,\u001b[0m \u001b[1;33m**\u001b[0m\u001b[0mself\u001b[0m\u001b[1;33m.\u001b[0m\u001b[0moptions\u001b[0m\u001b[1;33m)\u001b[0m\u001b[1;33m\u001b[0m\u001b[1;33m\u001b[0m\u001b[0m\n\u001b[0m\u001b[0;32m   1123\u001b[0m         \u001b[1;32melse\u001b[0m\u001b[1;33m:\u001b[0m\u001b[1;33m\u001b[0m\u001b[1;33m\u001b[0m\u001b[0m\n\u001b[0;32m   1124\u001b[0m             \u001b[1;32mif\u001b[0m \u001b[0mengine\u001b[0m \u001b[1;33m==\u001b[0m \u001b[1;34m'python'\u001b[0m\u001b[1;33m:\u001b[0m\u001b[1;33m\u001b[0m\u001b[1;33m\u001b[0m\u001b[0m\n",
      "\u001b[1;32mc:\\python37\\lib\\site-packages\\pandas\\io\\parsers.py\u001b[0m in \u001b[0;36m__init__\u001b[1;34m(self, src, **kwds)\u001b[0m\n\u001b[0;32m   1851\u001b[0m         \u001b[0mkwds\u001b[0m\u001b[1;33m[\u001b[0m\u001b[1;34m'usecols'\u001b[0m\u001b[1;33m]\u001b[0m \u001b[1;33m=\u001b[0m \u001b[0mself\u001b[0m\u001b[1;33m.\u001b[0m\u001b[0musecols\u001b[0m\u001b[1;33m\u001b[0m\u001b[1;33m\u001b[0m\u001b[0m\n\u001b[0;32m   1852\u001b[0m \u001b[1;33m\u001b[0m\u001b[0m\n\u001b[1;32m-> 1853\u001b[1;33m         \u001b[0mself\u001b[0m\u001b[1;33m.\u001b[0m\u001b[0m_reader\u001b[0m \u001b[1;33m=\u001b[0m \u001b[0mparsers\u001b[0m\u001b[1;33m.\u001b[0m\u001b[0mTextReader\u001b[0m\u001b[1;33m(\u001b[0m\u001b[0msrc\u001b[0m\u001b[1;33m,\u001b[0m \u001b[1;33m**\u001b[0m\u001b[0mkwds\u001b[0m\u001b[1;33m)\u001b[0m\u001b[1;33m\u001b[0m\u001b[1;33m\u001b[0m\u001b[0m\n\u001b[0m\u001b[0;32m   1854\u001b[0m         \u001b[0mself\u001b[0m\u001b[1;33m.\u001b[0m\u001b[0munnamed_cols\u001b[0m \u001b[1;33m=\u001b[0m \u001b[0mself\u001b[0m\u001b[1;33m.\u001b[0m\u001b[0m_reader\u001b[0m\u001b[1;33m.\u001b[0m\u001b[0munnamed_cols\u001b[0m\u001b[1;33m\u001b[0m\u001b[1;33m\u001b[0m\u001b[0m\n\u001b[0;32m   1855\u001b[0m \u001b[1;33m\u001b[0m\u001b[0m\n",
      "\u001b[1;32mpandas\\_libs\\parsers.pyx\u001b[0m in \u001b[0;36mpandas._libs.parsers.TextReader.__cinit__\u001b[1;34m()\u001b[0m\n",
      "\u001b[1;32mpandas\\_libs\\parsers.pyx\u001b[0m in \u001b[0;36mpandas._libs.parsers.TextReader._setup_parser_source\u001b[1;34m()\u001b[0m\n",
      "\u001b[1;31mFileNotFoundError\u001b[0m: [Errno 2] File b'/home/jupyter/final_project/world_bank/mortality.csv' does not exist: b'/home/jupyter/final_project/world_bank/mortality.csv'"
     ]
    }
   ],
   "source": [
    "# import World Bank data (stored as CSVs)\n",
    "\n",
    "location = \"/home/jupyter/final_project/\"\n",
    "countries = ['Afghanistan', 'Bangladesh', 'Sri Lanka', 'Bhutan', 'India', 'Pakistan', 'Nepal']\n",
    "\n",
    "def get_data(name):\n",
    "    data = pd.read_csv(location + f\"world_bank/{name}.csv\")\n",
    "    return data.loc[data['Country Name'].isin(countries)].set_index(\n",
    "        ['Country Name']).T.drop(['Country Code', 'Indicator Name', 'Indicator Code'])\n",
    "\n",
    "mortality = get_data('mortality')\n",
    "contraception = get_data('contraception')\n",
    "enrollment = get_data('enrollment')\n",
    "fertility = get_data('fertility')\n",
    "gdppc = get_data('gdppc')\n",
    "undernourishment = get_data('undernourishment')\n",
    "labour = get_data('labour')"
   ]
  },
  {
   "cell_type": "code",
   "execution_count": null,
   "metadata": {},
   "outputs": [],
   "source": [
    "# defining functions to make graphs of Nepal\n",
    "\n",
    "c= sns.husl_palette(7, h=.5, s=0.8, l=0.7)\n",
    "\n",
    "def make_graph(df, labels, title, ylabel, minx=1960, maxx=2018, ax1=0, ax2=0, exclusion=''):\n",
    "    \"\"\"\n",
    "    Make a simple graph of several countries' data.\n",
    "    Label it, set x-limits.\n",
    "    \"\"\"\n",
    "    # setting up graph\n",
    "    ax[ax1][ax2].set_title(title)\n",
    "    ax[ax1][ax2].set_ylabel(ylabel)\n",
    "    ax[ax1][ax2].set_xlim(minx, maxx)\n",
    "    # plotting countries\n",
    "    for (i, (country, label)) in enumerate(zip(countries, labels)):\n",
    "        if country!= exclusion:\n",
    "            plot_country(df, country, i, label[0], label[1], ax1, ax2)\n",
    "    return ax[ax1][ax2]\n",
    "\n",
    "def plot_country(df, country, colour, i=2, j=2, ax1=0, ax2=0):\n",
    "    \"\"\"\n",
    "    Plot line data of a country, assigning line\n",
    "    colour and label positioning.\n",
    "    \"\"\"\n",
    "    x= np.arange(1960, 2019)\n",
    "    y = df[country].values.astype(np.double)\n",
    "    mask = np.isfinite(y)\n",
    "    if country == \"Nepal\":\n",
    "        ax[ax1][ax2].plot(x[mask], y[mask], linewidth=2.5, c= 'red')\n",
    "        ax[ax1][ax2].text(i, j, country, color= 'red')\n",
    "    else:\n",
    "        ax[ax1][ax2].plot(x[mask], y[mask], linestyle=\"dashed\", c= c[colour])\n",
    "        ax[ax1][ax2].text(i, j, country, color= c[colour])\n",
    "    return ax[ax1][ax2]"
   ]
  },
  {
   "cell_type": "markdown",
   "metadata": {},
   "source": [
    "<span style=\"color:salmon\">\n",
    "    \n",
    "## **Despite being one of the poorest countries in South Asia...**\n",
    "    \n",
    "</span>"
   ]
  },
  {
   "cell_type": "code",
   "execution_count": null,
   "metadata": {},
   "outputs": [],
   "source": [
    "# GDP per capita\n",
    "\n",
    "fig, ax = plt.subplots(1,1, figsize=(8,6))\n",
    "ax = [[ax]]\n",
    "\n",
    "gdppc_labels = [(2010, 600), (2010, 3500), (2009.5, 11000), (2011, 8000), (2012, 6000), (1998, 3300), (1997, 400)]\n",
    "make_graph(gdppc, gdppc_labels, 'GDP per Capita', 'PPP-adjusted 2019 dollars', minx=1990, maxx=2017)\n",
    "\n",
    "fig.show()"
   ]
  },
  {
   "cell_type": "markdown",
   "metadata": {},
   "source": [
    "<span style=\"color:salmon\">\n",
    "    \n",
    "## **...Nepal has made great progress on important social indicators.**\n",
    "    \n",
    "</span>"
   ]
  },
  {
   "cell_type": "code",
   "execution_count": null,
   "metadata": {},
   "outputs": [],
   "source": [
    "fig, ax = plt.subplots(3,2, figsize=(20,18))\n",
    "\n",
    "# child mortality\n",
    "mortality_labels = [(1979, 180), (1960.5, 127), (1970, 35), (1985, 68), (1975, 100), (2010, 87),(1965, 165)]\n",
    "make_graph(mortality, mortality_labels, \"Child Mortality\", \"Deaths per 1000 births\", minx=1960, maxx=2017)\n",
    "\n",
    "# prevalence of undernourishment\n",
    "undernourishment_labels = [(2003.2, 42), (2000.5, 15.5), (2013, 13), (0,0), (2003.5, 20.5), (2004.5, 26), (2005, 13)]\n",
    "make_graph(undernourishment, undernourishment_labels, \"Prevalence of Undernourishment in South Asia\", \"% of population\", \n",
    "           minx=2000, maxx=2016, ax1=0, ax2=1, exclusion='Bhutan')\n",
    "\n",
    "# contraceptives prevalence\n",
    "contraception_labels = [(1990, 0), (2000, 61), (1981, 65), (2009, 42), (1980, 41), (1992, 9), (2000, 41)]\n",
    "make_graph(contraception, contraception_labels, \"Contraceptive Prevalence\", \"% of women aged 15-49\", minx=1975, maxx=2016, ax1=1, ax2=1)\n",
    "\n",
    "# fertility rate\n",
    "fertility_labels = [(2005, 7.2), (1968, 7.1), (1962, 4), (1980, 6.8), (1985, 3.6), (1994, 6), (1978, 5.2)]\n",
    "make_graph(fertility, fertility_labels, \"Fertility Rate\", \"Total births per woman\", minx=1960, maxx=2016, ax1=1, ax2=0)\n",
    "\n",
    "# gross primary enrollment\n",
    "enrollment_labels = [(2002, 30), (1992, 75), (1980, 128), (1995, 55), (1998.5, 100), (2009, 82), (1991, 125)]\n",
    "make_graph(enrollment, enrollment_labels, \"Gross Primary School Enrollment\", \"Total students / school-aged population\", \n",
    "           minx=1970, maxx=2016, ax1=2, ax2=0)\n",
    "\n",
    "# female-male labour rate ratio\n",
    "labour_labels = [(1992, 22), (1978.5, 70), (1991, 57), (2009, 71), (1980.2, 31), (1991, 8), (1991, 88)]\n",
    "make_graph(labour, labour_labels, \"Ratio: Female to Male Labour Force Participation Rate\", \"female LFP rate / male LFP rate (%)\", \n",
    "           minx=1962, maxx=2014, ax1=2, ax2=1)\n",
    "\n",
    "fig.show()"
   ]
  },
  {
   "cell_type": "markdown",
   "metadata": {},
   "source": [
    "<span style=\"color:salmon\">\n",
    "    \n",
    "# **But which of these improvements to daily life do Nepalis value the most?**\n",
    "    \n",
    "</span>"
   ]
  },
  {
   "cell_type": "code",
   "execution_count": null,
   "metadata": {},
   "outputs": [],
   "source": [
    "# define functions for cleaning and merging data\n",
    "\n",
    "spellcheck = {'Sindhupalchowk' : 'Sindhupalchok', \n",
    "              'Dhanusha' : 'Dhanusa',\n",
    "              'Makawanpur' : 'Makwanpur',\n",
    "              'Panchathar' : 'Panchthar',\n",
    "              'Udaypur' : 'Udayapur',\n",
    "              'Parvat' : 'Parbat',\n",
    "              'Gorakha' : 'Gorkha',\n",
    "              'Kapilvastu' : 'Kapilbastu',\n",
    "              'Saptari Rajbiraj' : 'Saptari',\n",
    "              'Samkhuwasabha' : 'Sankhuwasabha',\n",
    "              'Tanahaun' : 'Tanahu'}\n",
    "\n",
    "def correct_spelling(df, series):\n",
    "    '''\n",
    "    Uses a dictionary to correct spelling \n",
    "    discrepancies of Nepali districts.\n",
    "    '''\n",
    "    for misspelt, correct in zip(spellcheck.keys(), spellcheck.values()):\n",
    "        df.loc[df[series].isin([misspelt]), series] = correct\n",
    "    return df\n",
    "\n",
    "def add_count(variables, target_df, variables_df):\n",
    "    '''\n",
    "    By community, aggregate binary variables into\n",
    "    count variables and merge to a new dataset.\n",
    "    '''\n",
    "    for var in variables:\n",
    "        a = variables_df.groupby('xhpsu').sum()[var]\n",
    "        target_df = target_df.merge(a, left_on='xhpsu', right_index=True, how='left')\n",
    "        target_df.loc[target_df[var].isnull(), var] = 0\n",
    "    return target_df"
   ]
  },
  {
   "cell_type": "markdown",
   "metadata": {},
   "source": [
    "#### Importing Data"
   ]
  },
  {
   "cell_type": "code",
   "execution_count": null,
   "metadata": {},
   "outputs": [],
   "source": [
    "### import district shapefiles\n",
    "\n",
    "dist = gpd.read_file('https://biogeo.ucdavis.edu/data/gadm3.6/shp/gadm36_NPL_shp.zip', layer = 3)\n",
    "dist['district'] = dist['NAME_3'].str.lower()\n",
    "dist['district'].replace(to_replace='kavrepalanchok', value='kavre', inplace=True)\n",
    "dist_key = dist[['district', 'geometry']]"
   ]
  },
  {
   "cell_type": "code",
   "execution_count": null,
   "metadata": {},
   "outputs": [],
   "source": [
    "### import rural community data from raw NLSS dataset\n",
    "\n",
    "# data on where the community is located\n",
    "rc_key = pd.read_stata(location + 'nlss_dataset/rural_community/xr70_sr0.dta', \n",
    "                     columns = [\"xhpsu\",\"r0_dist\"]).rename(columns = {'r0_dist' : 'district'})\n",
    "\n",
    "\n",
    "# data on why community leaders think life is better\n",
    "reasons = pd.read_stata(location + 'nlss_dataset/rural_community/xr85_sr4.dta')\n",
    "\n",
    "reason_variables = {\n",
    "    'better_services' : 'better services, water supply or roads',\n",
    "    'better_projects' : 'local development projects',\n",
    "    'better_peace' : 'greater peace and security',\n",
    "    'better_harvest' : 'good weather/rains/harvest',\n",
    "    'better_economy' : 'more jobs/economic improvements'}\n",
    "\n",
    "for variable, response in zip(reason_variables.keys(), reason_variables.values()): # creating binaries from categoricals\n",
    "    reasons[variable] = 0 \n",
    "    reasons.loc[(reasons['r4_22a']== response) | (reasons['r4_22b']== response), variable] = 1\n",
    "    \n",
    "    \n",
    "# data on the development programs in each community\n",
    "programs = pd.read_stata(location + 'nlss_dataset/rural_community/xr86_sr4a.dta')\n",
    "\n",
    "program_variables = {\n",
    "    'infra' : ['power','transport/communication'],\n",
    "    'water' : ['drinking water'],\n",
    "    'ag' : ['agriculture', 'forestry', 'irrigation'],\n",
    "    'economy' : ['credit', 'poverty alleviation', 'income generating activities'],\n",
    "    'social' : ['education', 'health/nutrition/family planning']}\n",
    "\n",
    "for variable, response in zip(program_variables.keys(), program_variables.values()): # creating binaries from categoricals\n",
    "    programs[variable] = 0 \n",
    "    programs.loc[programs['r4_02'].isin(response), variable] = 1\n",
    "    \n",
    "\n",
    "# data on the women's groups in each community\n",
    "xr87 = pd.read_stata(location + 'nlss_dataset/rural_community/xr87_sr4b.dta')\n",
    "womens_group = xr87[xr87['r4_14']==\"women user group\"].drop(columns = [\"r4_13\", \"xstra\", \"r4_17\", 'r4_14'])\n",
    "\n",
    "womens_group.rename(columns= {\n",
    "    'r4_15' : 'years_operating',\n",
    "    'r4_16' : 'no_households',\n",
    "    'r4_18' : 'no_meetings_12m',\n",
    "    'r4_19' : 'vdc_attend',\n",
    "    'r4b_ln' : 'group_no'}, inplace=True)"
   ]
  },
  {
   "cell_type": "code",
   "execution_count": null,
   "metadata": {},
   "outputs": [],
   "source": [
    "### import district data on victims of the Nepali Civil War\n",
    "\n",
    "victims = pd.read_csv('https://dataverse.harvard.edu/api/access/datafile/2702605/?variables=v15720134')\n",
    "victims['district'] = victims['IncidentDistrict'].str.capitalize()\n",
    "victims = victims.groupby('district').count().rename(columns={'IncidentDistrict': 'victims'}).reset_index()\n",
    "victims = correct_spelling(victims, 'district')"
   ]
  },
  {
   "cell_type": "code",
   "execution_count": null,
   "metadata": {},
   "outputs": [],
   "source": [
    "### import rainfall data\n",
    "\n",
    "url = 'http://data.opennepal.net/sites/all/modules/pubdlcnt/pubdlcnt.php?file=http://data.opennepal.net/sites/default/files/resources/annual%20rainfall%20by%20station.csv&nid=4321'\n",
    "rainfall = pd.read_csv(url).rename(columns={'Rainfall (mm)' : 'rain'})\n",
    "\n",
    "rainfall['Station'] = rainfall['Station'].str.split(',', expand=True)[0].str.strip() # clean data\n",
    "rainfall['rain'] = pd.to_numeric(rainfall['rain'].str.replace('-',\"\").str.replace('NA',\"\").str.strip())\n",
    "rainfall = correct_spelling(rainfall, 'Station')    \n",
    "\n",
    "rainfall = rainfall.groupby('Station').mean()['rain'] # get average rainfall"
   ]
  },
  {
   "cell_type": "markdown",
   "metadata": {},
   "source": [
    "#### Merging Data"
   ]
  },
  {
   "cell_type": "code",
   "execution_count": null,
   "metadata": {},
   "outputs": [],
   "source": [
    "### merge relevant data to each rural community\n",
    "\n",
    "# merge reponses to 'reasons for a better life'\n",
    "rc_key = rc_key.merge(reasons[list(reason_variables.keys()) + ['xhpsu']], on='xhpsu', how ='right')\n",
    "\n",
    "# merge number of development programs\n",
    "rc_key = add_count(list(program_variables.keys()), rc_key, programs)\n",
    "\n",
    "# merge number of women's groups\n",
    "womens_group['wg_count'] = 1\n",
    "rc_key = add_count(['wg_count'], rc_key, womens_group)"
   ]
  },
  {
   "cell_type": "markdown",
   "metadata": {},
   "source": [
    "#### Aggregating Data"
   ]
  },
  {
   "cell_type": "code",
   "execution_count": null,
   "metadata": {},
   "outputs": [],
   "source": [
    "# I aggregate community-level data to the district level (this is statistically a bit shady,\n",
    "# but it looks much better than a community-level map; the NLSS is a national sample survey,\n",
    "# so only a selection of communities get asked and that makes for a very patchy map...)\n",
    "\n",
    "# aggregate community-level data\n",
    "district_averages = rc_key.groupby('district').mean().drop(columns='xhpsu')\n",
    "districts = dist_key.merge(district_averages, on=['district'], how='left')\n",
    "districts['district']= districts['district'].str.capitalize()\n",
    "\n",
    "# merge district-level victims data\n",
    "districts = districts.merge(victims, on='district', how='left')\n",
    "districts.loc[districts['district'].isin(['Manang']), 'victims'] = 0 # no casualties in one district\n",
    "\n",
    "# merge district-level rainfall data\n",
    "districts = districts.merge(rainfall, left_on='district', right_index=True, how='left')"
   ]
  },
  {
   "cell_type": "markdown",
   "metadata": {},
   "source": [
    "#### Mapping"
   ]
  },
  {
   "cell_type": "code",
   "execution_count": null,
   "metadata": {},
   "outputs": [],
   "source": [
    "# define some mapping functions\n",
    "\n",
    "def basemap():\n",
    "    '''\n",
    "    Generate a basemap of Nepal.\n",
    "    '''\n",
    "    m = folium.Map(location=[28.6, 84], zoom_start=7, tiles=None)\n",
    "    return m\n",
    "\n",
    "def embed_map(m): #stolen from Stack Exchange\n",
    "    '''\n",
    "    Export and re-import a map so that \n",
    "    it displays in Google Chrome even with a lot of shapes.\n",
    "    '''\n",
    "    folium.map.LayerControl(position='bottomleft', collapsed=False).add_to(m)\n",
    "    from IPython.display import IFrame\n",
    "    m.save('index.html')\n",
    "    return IFrame('index.html', width='100%', height='480px')\n",
    "\n",
    "def choropleth(column, fill_color, bins=6, line_color='#d5dbe5', name=None, legend_name=None, fields=[], aliases=[]):\n",
    "    '''\n",
    "    Make a choropleth layer.\n",
    "    '''\n",
    "    k = folium.Choropleth(geo_data=districts,\n",
    "                          data=districts,\n",
    "                          key_on='feature.properties.district',\n",
    "                          columns=['district', column],\n",
    "                          fill_color=fill_color,\n",
    "                          bins=bins,\n",
    "                          nan_fill_color='#a6acb5',\n",
    "                          line_color=line_color,\n",
    "                          highlight=True,\n",
    "                          smooth_factor = 0.6,\n",
    "                          overlay=False, \n",
    "                          name = name,\n",
    "                          legend_name=legend_name).add_to(m)\n",
    "    folium.TileLayer('cartodbpositron').add_to(k)\n",
    "    fields.append(column)\n",
    "    aliases.append('Share of leaders who agree' if 'better' in column else name)\n",
    "    return k\n",
    "\n",
    "def labels(layers, names, aliases):\n",
    "    '''\n",
    "    Add popup labels to a map layer.\n",
    "    '''\n",
    "    for layer in layers:\n",
    "        layer.geojson.add_child(folium.features.GeoJsonTooltip(\n",
    "            fields=['district'] + names, aliases= ['District'] + aliases, sticky=False, localize=True))\n",
    "    return"
   ]
  },
  {
   "cell_type": "markdown",
   "metadata": {},
   "source": [
    "<span style=\"color:salmon\">\n",
    "    \n",
    "# **These are the top 5 reasons...**\n",
    "    \n",
    "</span>"
   ]
  },
  {
   "cell_type": "markdown",
   "metadata": {},
   "source": [
    "<span style=\"color:green\">\n",
    "    \n",
    "## **#5 \"Life is better because of good weather, rains, and harvests.\"**\n",
    "    \n",
    "</span>"
   ]
  },
  {
   "cell_type": "code",
   "execution_count": null,
   "metadata": {},
   "outputs": [],
   "source": [
    "m = basemap()\n",
    "f, a = [], []\n",
    "\n",
    "s = choropleth('better_harvest', 'Blues', bins=[0, 0.1, 0.2, 0.4, 0.6, 0.8, 1],\n",
    "           name = \"Life is better because of good weather, rains and harvests.\",\n",
    "           legend_name = 'Share of community leaders who agree', fields = f, aliases = a)\n",
    "\n",
    "t = choropleth('ag', 'YlGn',\n",
    "           name = \"Average no. agricultural programs\",\n",
    "           legend_name = 'Average number of agricultural programs per community', fields = f, aliases = a)\n",
    "\n",
    "u = choropleth('rain', 'GnBu',\n",
    "           name = \"Average annual rainfall\",\n",
    "           legend_name = 'Average annual rainfall at local station (2001-2011)', fields = f, aliases = a)\n",
    "\n",
    "labels([s,t,u], f, a)\n",
    "embed_map(m)"
   ]
  },
  {
   "cell_type": "markdown",
   "metadata": {},
   "source": [
    "<span style=\"color:hotpink\">\n",
    "    \n",
    "## **#4 \"Life is better because of local development projects.\"**\n",
    "    \n",
    "</span>"
   ]
  },
  {
   "cell_type": "code",
   "execution_count": null,
   "metadata": {},
   "outputs": [],
   "source": [
    "m = basemap()\n",
    "f, a = [],[]\n",
    "\n",
    "s = choropleth('better_projects', 'Blues',\n",
    "           name = \"Life is better because of local development projects.\",\n",
    "           legend_name = 'Share of community leaders who agree', fields = f, aliases = a)\n",
    "\n",
    "t = choropleth('wg_count', 'PuRd', bins=[0, 0.25, 0.5, 1, 1.5, 2, 2.8],\n",
    "           name = \"Average no. women's groups\",\n",
    "           legend_name = 'Average number of women groups per community', fields = f, aliases = a)\n",
    "\n",
    "labels([s,t], f, a)\n",
    "embed_map(m)"
   ]
  },
  {
   "cell_type": "markdown",
   "metadata": {},
   "source": [
    "<span style=\"color:#ea6146\">\n",
    "    \n",
    "## **#3 \"Life is better because of increased peace and security.\"**\n",
    "    \n",
    "</span>"
   ]
  },
  {
   "cell_type": "code",
   "execution_count": null,
   "metadata": {},
   "outputs": [],
   "source": [
    "m = basemap()\n",
    "f, a = [], []\n",
    "\n",
    "# peace and security question\n",
    "s = choropleth('better_peace', 'Blues',\n",
    "           name = \"Life is better because of increased peace and security.\",\n",
    "           legend_name = 'Share of community leaders who agree', fields = f, aliases = a)\n",
    "\n",
    "# war victims\n",
    "t = choropleth('victims', 'YlOrRd', bins = [0, 50, 100, 200, 300, 600, 850],\n",
    "           name = \"Number of civil war victims\",\n",
    "           legend_name = 'Number of victims during Nepali Civil War (1996-2006)', fields = f, aliases = a)\n",
    "\n",
    "labels([s,t], f, a)\n",
    "embed_map(m)"
   ]
  },
  {
   "cell_type": "markdown",
   "metadata": {},
   "source": [
    "<span style=\"color:red\">\n",
    "    \n",
    "## **#2 \"Life is better because of more jobs and economic improvements.\"**\n",
    "    \n",
    "</span>"
   ]
  },
  {
   "cell_type": "code",
   "execution_count": null,
   "metadata": {},
   "outputs": [],
   "source": [
    "m = basemap()\n",
    "f, a = [],[]\n",
    "\n",
    "s = choropleth('better_economy', 'Blues',\n",
    "           name = \"Life is better because of more jobs and economic improvements.\", fields = f, aliases = a,\n",
    "           legend_name = 'Share of community leaders who agree')\n",
    "\n",
    "t = choropleth('economy', 'YlOrBr',\n",
    "           name = \"Average no. economic programs\",\n",
    "           legend_name = 'Average number of credit, income generation, and poverty programs per community', fields = f, aliases = a)\n",
    "\n",
    "labels([s,t], f, a)\n",
    "embed_map(m)"
   ]
  },
  {
   "cell_type": "markdown",
   "metadata": {},
   "source": [
    "<span style=\"color:salmon\">\n",
    "    \n",
    "## *And the winner ...*\n",
    "    \n",
    "</span>"
   ]
  },
  {
   "cell_type": "markdown",
   "metadata": {},
   "source": [
    "<span style=\"color:#a81b1b\">\n",
    "    \n",
    "# **#1 \"Life is better because of improved public infrastructure.\"**\n",
    "    \n",
    "</span>"
   ]
  },
  {
   "cell_type": "code",
   "execution_count": null,
   "metadata": {},
   "outputs": [],
   "source": [
    "m = basemap()\n",
    "f,a = [],[]\n",
    "\n",
    "# peace and security question\n",
    "s = choropleth('better_services', 'Blues',\n",
    "           name = \"Life is better because of better services, roads, and water supply.\",\n",
    "           legend_name = 'Share of community leaders who agree', fields = f, aliases = a)\n",
    "t = choropleth('infra', 'YlGn',\n",
    "          name = 'Average no. road/power programs',\n",
    "          legend_name = 'Average number of road and power programs per community', fields = f, aliases = a)\n",
    "u = choropleth('water', 'GnBu',\n",
    "          name = 'Average no. drinking water programs',\n",
    "          legend_name = 'Average number of drinking water programs per community', fields = f, aliases = a)\n",
    "\n",
    "labels([s,t,u], f, a)\n",
    "embed_map(m)"
   ]
  }
 ],
 "metadata": {
  "kernelspec": {
   "display_name": "Python 3",
   "language": "python",
   "name": "python3"
  },
  "language_info": {
   "codemirror_mode": {
    "name": "ipython",
    "version": 3
   },
   "file_extension": ".py",
   "mimetype": "text/x-python",
   "name": "python",
   "nbconvert_exporter": "python",
   "pygments_lexer": "ipython3",
   "version": "3.7.3"
  }
 },
 "nbformat": 4,
 "nbformat_minor": 2
}
